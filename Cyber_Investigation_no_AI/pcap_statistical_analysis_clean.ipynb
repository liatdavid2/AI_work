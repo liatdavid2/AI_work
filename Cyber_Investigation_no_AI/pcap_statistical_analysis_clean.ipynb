{
 "cells": [
  {
   "cell_type": "markdown",
   "id": "02faaf6c",
   "metadata": {},
   "source": [
    "# Statistical Analysis of Network Capture File (PCAP)"
   ]
  },
  {
   "cell_type": "markdown",
   "id": "3abf57a2",
   "metadata": {},
   "source": [
    "This notebook performs a forensic analysis on a PCAP file.\n",
    "We extract packet-level insights such as source/destination IPs, protocol usage, DNS activity, and time-series traffic behavior."
   ]
  },
  {
   "cell_type": "code",
   "execution_count": null,
   "id": "1fb764ed",
   "metadata": {},
   "outputs": [],
   "source": [
    "import pandas as pd\n",
    "import matplotlib.pyplot as plt\n",
    "import seaborn as sns\n",
    "\n",
    "# Load the parsed summary CSV\n",
    "df = pd.read_csv('/content/unsw_sample_20000_summary.csv')\n",
    "df.head()"
   ]
  },
  {
   "cell_type": "markdown",
   "id": "5e1cea95",
   "metadata": {},
   "source": [
    "## Top 10 Protocols"
   ]
  },
  {
   "cell_type": "code",
   "execution_count": null,
   "id": "7e7cdb8c",
   "metadata": {},
   "outputs": [],
   "source": [
    "# Count top 10 protocols\n",
    "protocol_counts = df['protocol'].value_counts().head(10)\n",
    "protocol_labels = protocol_counts.index\n",
    "protocol_sizes = protocol_counts.values\n",
    "protocol_percent = protocol_sizes / protocol_sizes.sum() * 100\n",
    "custom_labels = [f\"{label} ({percent:.1f}%)\" for label, percent in zip(protocol_labels, protocol_percent)]\n",
    "\n",
    "# Create tighter figure\n",
    "fig, ax = plt.subplots(figsize=(6, 5))\n",
    "wedges, _ = ax.pie(\n",
    "    protocol_sizes,\n",
    "    startangle=140,\n",
    "    wedgeprops=dict(width=0.4),\n",
    "    labels=None\n",
    ")\n",
    "ax.legend(\n",
    "    wedges,\n",
    "    custom_labels,\n",
    "    title=\"Protocol\",\n",
    "    loc=\"center left\",\n",
    "    bbox_to_anchor=(0.95, 0.5),\n",
    "    fontsize=9\n",
    ")\n",
    "plt.title(\"Top 10 Protocols\", pad=10)\n",
    "plt.axis('equal')\n",
    "plt.tight_layout(pad=0.5)\n",
    "plt.show()"
   ]
  },
  {
   "cell_type": "markdown",
   "id": "63a486ab",
   "metadata": {},
   "source": [
    "## Top 20 Source IPs"
   ]
  },
  {
   "cell_type": "code",
   "execution_count": null,
   "id": "003ca1b1",
   "metadata": {},
   "outputs": [],
   "source": [
    "top_src = df['src'].value_counts().head(20)\n",
    "print(\"Top 20 Source IPs by Packet Count:\")\n",
    "print(top_src)\n",
    "top_src.plot(kind='barh', figsize=(8, 6), title='Top 20 Source IPs')\n",
    "plt.xlabel(\"Number of Packets\")\n",
    "plt.ylabel(\"Source IP\")\n",
    "plt.gca().invert_yaxis()\n",
    "plt.grid(True)\n",
    "plt.tight_layout()\n",
    "plt.show()"
   ]
  },
  {
   "cell_type": "markdown",
   "id": "d71b8ad5",
   "metadata": {},
   "source": [
    "## Top 20 Destination IPs"
   ]
  },
  {
   "cell_type": "code",
   "execution_count": null,
   "id": "3d57e895",
   "metadata": {},
   "outputs": [],
   "source": [
    "top_dst = df['dst'].value_counts().head(20)\n",
    "print(\"Top 20 Destination IPs by Packet Count:\")\n",
    "print(top_dst)\n",
    "top_dst.plot(kind='barh', figsize=(8, 6), title='Top 20 Destination IPs', color='orange')\n",
    "plt.xlabel(\"Number of Packets\")\n",
    "plt.ylabel(\"Destination IP\")\n",
    "plt.gca().invert_yaxis()\n",
    "plt.grid(True)\n",
    "plt.tight_layout()\n",
    "plt.show()"
   ]
  },
  {
   "cell_type": "markdown",
   "id": "cb21bbee",
   "metadata": {},
   "source": [
    "## DNS Source and Destination Analysis"
   ]
  },
  {
   "cell_type": "code",
   "execution_count": null,
   "id": "96594cc7",
   "metadata": {},
   "outputs": [],
   "source": [
    "dns_df = df[df['protocol'] == 'DNS']\n",
    "dns_df['src'].value_counts().head(10).plot.barh(title='Top 10 DNS Source IPs')\n",
    "plt.xlabel(\"Number of DNS Packets\")\n",
    "plt.ylabel(\"Source IP\")\n",
    "plt.tight_layout()\n",
    "plt.show()\n",
    "\n",
    "dns_df['dst'].value_counts().head(10).plot.barh(title='Top 10 DNS Destination IPs', color='green')\n",
    "plt.xlabel(\"Number of DNS Packets\")\n",
    "plt.ylabel(\"Destination IP\")\n",
    "plt.tight_layout()\n",
    "plt.show()"
   ]
  },
  {
   "cell_type": "markdown",
   "id": "9d0426af",
   "metadata": {},
   "source": [
    "## Traffic Volume Over Time"
   ]
  },
  {
   "cell_type": "code",
   "execution_count": null,
   "id": "ab13518d",
   "metadata": {},
   "outputs": [],
   "source": [
    "df['time_dt'] = pd.to_datetime(df['time'], unit='s', errors='coerce')\n",
    "df = df.dropna(subset=['time_dt'])\n",
    "df.set_index('time_dt', inplace=True)\n",
    "traffic_per_interval = df['length'].resample('10S').sum()\n",
    "traffic_per_interval.plot(figsize=(12, 4), title=\"Traffic Volume Over Time (Bytes / 10s)\")\n",
    "plt.xlabel(\"Time\")\n",
    "plt.ylabel(\"Bytes\")\n",
    "plt.grid()\n",
    "plt.tight_layout()\n",
    "plt.show()"
   ]
  },
  {
   "cell_type": "markdown",
   "id": "020224ea",
   "metadata": {},
   "source": [
    "## Source-Destination Heatmap"
   ]
  },
  {
   "cell_type": "code",
   "execution_count": null,
   "id": "8431cef3",
   "metadata": {},
   "outputs": [],
   "source": [
    "flow_counts = df.groupby(['src', 'dst']).size().reset_index(name='count')\n",
    "flow_matrix = flow_counts.pivot_table(index='src', columns='dst', values='count', fill_value=0)\n",
    "plt.figure(figsize=(10, 8))\n",
    "sns.heatmap(flow_matrix, cmap=\"Blues\", cbar_kws={'label': 'Packet Count'})\n",
    "plt.title(\"Source-Destination Flow Heatmap\")\n",
    "plt.xlabel(\"Destination IP\")\n",
    "plt.ylabel(\"Source IP\")\n",
    "plt.tight_layout()\n",
    "plt.show()"
   ]
  }
 ],
 "metadata": {},
 "nbformat": 4,
 "nbformat_minor": 5
}