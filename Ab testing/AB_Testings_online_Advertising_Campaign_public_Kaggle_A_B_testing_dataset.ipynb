{
 "cells": [
  {
   "cell_type": "markdown",
   "id": "89499dbf",
   "metadata": {},
   "source": [
    "# A/B Testing Analysis - Clean Version for GitHub\n",
    "\n",
    "This notebook provides a full A/B testing analysis of an online advertising dataset.\n",
    "All outputs are generated using **matplotlib static plots** and tables, ensuring full compatibility with GitHub rendering (no interactive widgets).\n"
   ]
  },
  {
   "cell_type": "code",
   "execution_count": null,
   "id": "41d48fbd",
   "metadata": {},
   "outputs": [],
   "source": [
    "# === Imports ===\n",
    "import pandas as pd\n",
    "import numpy as np\n",
    "import matplotlib.pyplot as plt\n",
    "from math import sqrt\n",
    "from scipy import stats\n",
    "from statsmodels.stats.proportion import proportions_ztest\n",
    "from statsmodels.stats.multitest import multipletests\n",
    "\n",
    "# Configure matplotlib\n",
    "plt.style.use('default')\n"
   ]
  },
  {
   "cell_type": "code",
   "execution_count": null,
   "id": "b0a16204",
   "metadata": {},
   "outputs": [],
   "source": [
    "# === Load Data ===\n",
    "control_path = \"control_group.csv\"\n",
    "test_path    = \"test_group.csv\"\n",
    "\n",
    "control_raw = pd.read_csv(control_path, sep=';')\n",
    "test_raw    = pd.read_csv(test_path, sep=';')\n",
    "\n",
    "# Rename columns\n",
    "rename_map = {\n",
    "    \"Campaign Name\": \"Campaign\",\n",
    "    \"Date\": \"Date\",\n",
    "    \"Spend [USD]\": \"Spend\",\n",
    "    \"# of Impressions\": \"Impression\",\n",
    "    \"Reach\": \"Reach\",\n",
    "    \"# of Website Clicks\": \"Click\",\n",
    "    \"# of Searches\": \"Searches\",\n",
    "    \"# of View Content\": \"ContentViewed\",\n",
    "    \"# of Add to Cart\": \"AddToCart\",\n",
    "    \"# of Purchase\": \"Purchase\"\n",
    "}\n",
    "control = control_raw.rename(columns=rename_map).copy()\n",
    "test    = test_raw.rename(columns=rename_map).copy()\n",
    "\n",
    "# Parse dates\n",
    "for df in (control, test):\n",
    "    df[\"Date\"] = pd.to_datetime(df[\"Date\"], dayfirst=True, errors=\"coerce\")\n",
    "\n",
    "# Fill missing values\n",
    "num_cols = [\"Spend\",\"Impression\",\"Click\",\"Searches\",\"ContentViewed\",\"AddToCart\",\"Purchase\",\"Reach\"]\n",
    "for df in (control, test):\n",
    "    for c in num_cols:\n",
    "        df[c] = pd.to_numeric(df[c], errors=\"coerce\")\n",
    "        if df[c].isnull().any():\n",
    "            df[c].fillna(df[c].mean(), inplace=True)\n"
   ]
  },
  {
   "cell_type": "code",
   "execution_count": null,
   "id": "1d138938",
   "metadata": {},
   "outputs": [],
   "source": [
    "# === KPIs per row ===\n",
    "def add_kpis(df: pd.DataFrame) -> pd.DataFrame:\n",
    "    df = df.copy()\n",
    "    df[\"CTR\"] = np.where(df[\"Impression\"] > 0, df[\"Click\"] / df[\"Impression\"], np.nan)\n",
    "    df[\"CR\"]  = np.where(df[\"Click\"] > 0, df[\"Purchase\"] / df[\"Click\"], np.nan)\n",
    "    df[\"RevPerImpr\"] = np.where(df[\"Impression\"] > 0, df[\"Spend\"] / df[\"Impression\"], np.nan)\n",
    "    return df\n",
    "\n",
    "control = add_kpis(control)\n",
    "test    = add_kpis(test)\n"
   ]
  },
  {
   "cell_type": "code",
   "execution_count": null,
   "id": "cb0c73d6",
   "metadata": {},
   "outputs": [],
   "source": [
    "# === Aggregates ===\n",
    "def agg_block(d: pd.DataFrame) -> pd.Series:\n",
    "    return pd.Series({\n",
    "        \"Impressions\": d[\"Impression\"].sum(),\n",
    "        \"Clicks\":      d[\"Click\"].sum(),\n",
    "        \"Purchases\":   d[\"Purchase\"].sum(),\n",
    "        \"Spend\":       d[\"Spend\"].sum(),\n",
    "        \"CTR_mean\":    d[\"CTR\"].mean(skipna=True),\n",
    "        \"CR_mean\":     d[\"CR\"].mean(skipna=True),\n",
    "        \"RevPerImpr_mean\": d[\"RevPerImpr\"].mean(skipna=True),\n",
    "    })\n",
    "\n",
    "summary = pd.DataFrame({\"Control\": agg_block(control), \"Test\": agg_block(test)})\n",
    "summary\n"
   ]
  },
  {
   "cell_type": "code",
   "execution_count": null,
   "id": "7cdf7875",
   "metadata": {},
   "outputs": [],
   "source": [
    "# === Charts (Matplotlib static) ===\n",
    "metrics = [\n",
    "    (\"CTR_mean\", \"CTR (%)\", 100.0),\n",
    "    (\"CR_mean\", \"CR (%)\", 100.0),\n",
    "    (\"RevPerImpr_mean\", \"Revenue per Impression\", 1.0),\n",
    "]\n",
    "fig, axes = plt.subplots(1, 3, figsize=(14, 4))\n",
    "colors = [\"gold\", \"lightgreen\"]\n",
    "for ax, (row_name, title, factor) in zip(axes, metrics):\n",
    "    vals = [summary.loc[row_name, \"Control\"] * factor, summary.loc[row_name, \"Test\"] * factor]\n",
    "    ax.bar([\"Control\",\"Test\"], vals, color=colors)\n",
    "    ax.set_title(title)\n",
    "    ax.set_ylabel(title)\n",
    "    ax.ticklabel_format(style='plain', axis='y')\n",
    "plt.tight_layout()\n",
    "plt.show()\n"
   ]
  }
 ],
 "metadata": {},
 "nbformat": 4,
 "nbformat_minor": 5
}
