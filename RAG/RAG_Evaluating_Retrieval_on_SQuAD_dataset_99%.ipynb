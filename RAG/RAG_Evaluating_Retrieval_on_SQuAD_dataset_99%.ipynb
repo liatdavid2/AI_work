{
 "cells": [
  {
   "cell_type": "markdown",
   "metadata": {
    "id": "GvIaDcuJokve"
   },
   "source": [
    "# The Project:The Project: Evaluating Retrieval on SQuAD with Sentence Transformers and FAISS 99.2%\n",
    "\n",
    "This project implements a simplified **Retrieval-Augmented Generation (RAG)** setup using a subset of the **SQuAD** dataset. Instead of generating answers, it focuses on the **retrieval** component—evaluating whether a retriever can return contexts that contain the correct answers.\n",
    "\n",
    "A sentence embedding model (`multi-qa-mpnet-base-dot-v1`) encodes both questions and their corresponding \"Q: ... C: ...\" pairs. The embeddings are normalized, and a **FAISS index** is used for efficient top-5 similarity search.\n",
    "\n",
    "Evaluation is performed by checking if the **gold answer** appears as a **substring** in any of the top-5 retrieved results. This serves as a proxy for answerability within the retrieved context.\n",
    "\n",
    "### Summary:\n",
    "- Dataset: 500 SQuAD validation samples\n",
    "- Task: Question → Retrieve top-5 relevant \"Q + C\" pairs\n",
    "- Metric: Substring-based Top-5 Accuracy\n",
    "- Result: Shows how well semantic retrievers can support downstream QA in a RAG pipeline\n"
   ]
  },
  {
   "cell_type": "markdown",
   "metadata": {
    "id": "scowMcAqoeEw"
   },
   "source": [
    "# The Dataset: SQuAD (Stanford Question Answering Dataset)\n",
    "\n",
    "The **Stanford Question Answering Dataset (SQuAD)** is a benchmark dataset for evaluating machine reading comprehension and question-answering systems. It was developed by researchers at Stanford University and has become a widely-used standard in the field of NLP.\n",
    "\n",
    "## Key Characteristics\n",
    "\n",
    "- **Type**: Extractive Question Answering\n",
    "- **Language**: English\n",
    "- **Domain**: Wikipedia articles\n",
    "- **Task**: Given a question and a context paragraph, the goal is to find the answer span within the paragraph.\n",
    "\n",
    "## Structure\n",
    "\n",
    "Each sample in SQuAD consists of:\n",
    "\n",
    "- `context`: A paragraph extracted from a Wikipedia article.\n",
    "- `question`: A question related to the paragraph.\n",
    "- `answers`: A list of one or more acceptable answers, each provided as:\n",
    "  - `text`: The actual answer string.\n",
    "  - `answer_start`: The character index where the answer begins in the context.\n",
    "\n",
    "### Example Entry\n",
    "\n",
    "```json\n",
    "{\n",
    "  \"context\": \"The Apollo program was the third United States human spaceflight program carried out by NASA...\",\n",
    "  \"question\": \"What was the name of NASA’s third human spaceflight program?\",\n",
    "  \"answers\": {\n",
    "    \"text\": [\"The Apollo program\"],\n",
    "    \"answer_start\": [0]\n",
    "  }\n",
    "}\n"
   ]
  },
  {
   "cell_type": "code",
   "execution_count": null,
   "metadata": {
    "id": "4Brm4YD5xSHh"
   },
   "outputs": [],
   "source": [
    "!pip install -q datasets sentence-transformers faiss-cpu"
   ]
  },
  {
   "cell_type": "code",
   "execution_count": null,
   "metadata": {
    "colab": {
     "base_uri": "https://localhost:8080/",
     "height": 404,
     "referenced_widgets": [
      "cc599e42879e420688cb233d5934623f",
      "e687a97ea07547cdbeca22f8de2e3c52",
      "dd711c89b9fb42b3a48c4e90a712339d",
      "ddfc5850e30f4fa596742d44f10658c3",
      "842d951a179e484ea5600c817e377ceb",
      "f440b9eee2a7430cac056fa92b6bf5a3",
      "97882ddab2cc4e01bd14a91e072b5289",
      "0e9c9f87e5df47fe8d4493babf596a4e",
      "845594b7d4464467a028b92f2e9d24e2",
      "bb5a877aa4f94496be3c55ecdf896914",
      "e788898836df40439f47a96132516f0e",
      "835074ad766f4ca89ad3a72d04aae923",
      "1adccf4504684bf8831d31585dfc0742",
      "7aad99ba2ea64e438f71c1a3a6b19d21",
      "52f6145419f34774b5924c6a4333d652",
      "c2d44b144aec43dba6cc930bf2739a2d",
      "e7821f3b59d84e4aa7348a79f732d5c6",
      "e1ace719308a4efaaaab80d9d1d99b9d",
      "1bb6feeb52e847b398e6023242c90a4d",
      "8a6aacfe508041b785d7e1b22ddcae36",
      "718ff83374434ebda661a30422423d84",
      "ba9ba81b78914459bd750790aff751e5",
      "378a89ca56244d5fb37544415c7f63e1",
      "24a7286724564a73bf1aac92bc5fe1e0",
      "5b77ff37703145fe9235fc92d70aba3c",
      "43bad5d1587b4f00b031344b468ad8ac",
      "99c4c29f5ed945ffa212a89986bf21b1",
      "0103e0dba17e45d59e800837bf6e576f",
      "eb24cc922d18456ea8d84a8289ad8b21",
      "1dd5da964162497994f7cb64079c444c",
      "181bc765883d4a349081947b497fb2c3",
      "bd0538fae4cf4c14ad989a6cc41268ec",
      "3543cc59905846b3a0c967ada411dfaa",
      "91236778c2bf41caa88f9d8bcdbb875e",
      "3dd1466318284aa8a9452a75310cab92",
      "11835d1235f04774a33e4747489774f5",
      "13d078883e2b4db0bd390ab4e1562d1b",
      "da269833061144f9b8250e0ecdde0697",
      "e2226c6d959b4bc8afa786e95c74b2f4",
      "733b7019e71444bbb3f2f35392d9a208",
      "8d878ca09d6341f6a69b9a809154ec81",
      "7806710faff440989bf100f41ad7bac9",
      "ece5bd9f50074acba77a333079b633e6",
      "b63aa6aa67be4c04927ab9da1ee4b7db",
      "157653e32f0d4d01abdff37f77724f21",
      "2a50e4bb111544b7bb2b973493f28e20",
      "c620affaa3a84c98a43dde5ca9e44deb",
      "1900047c0b934281b62f5bb1e0c82fe8",
      "d1aa8b5e497e4e1f8723a67daf6e067d",
      "5b03417f247d4ea19f1ade20dc1deff1",
      "bc20090f36dc449fafa14908f4b78223",
      "ab2e621989294165803fc7d832af30fd",
      "20630816ee1f4e02a759ccd9abe9d0eb",
      "20b6933ef77549fca5cfea6a07b15d20",
      "382a21bef8a3491a80e6808259e3718c",
      "5961d59b09d24a0ca52d7d9076e8bf3b",
      "f995a659a719430d824318c02a335812",
      "352ff72c07f746ea914ec3b92add78ac",
      "63b68972e5044b7f8eb880e8c0d35fdc",
      "9b69bdd426cf444bb0928c3a9ffb3a42",
      "ffb593e6cf424ea08e48f61bc3c1d8e7",
      "3443eb86e74c48bf910f00a63ece2b89",
      "17cba9df42fc4759a1e653412b157033",
      "94fdafbde6774c848e14d90ef319e83c",
      "abe6078623b741bea0f412f56cd3a3ce",
      "afc26d088dfb4bf591346d4f61704e3d",
      "90c2176f21c34479ada6f999266b7d32",
      "af2438967d2e4fb383c76e4cfcf9a021",
      "1da870c3e6f04840a7c2a3fa11946cb9",
      "ee3e7e6cad8742a2b804e41871616984",
      "932be48c9bf745a2a6153fadd9fcfb4e",
      "6ca07cedcc1f446b8970623fe57dbe28",
      "33e76939d8f34633b8adeb71c07e9d24",
      "260de08fcd544897974f705dbf832de6",
      "b2043b67ba924a80bac7b4d41ae3e8ca",
      "9465a2035aa34db59632a0c30bf6981a",
      "eb505095983643719675da61b2033bbf",
      "54c94d28d943401284e5706073df4c76",
      "d053bb46603546e5a890fe812efc43de",
      "3c4ec62e37bb42918295f265c4d22f50",
      "c2007be8c00942859ca925eaabcae2a2",
      "91a2d9d47281402d9747cd2dc3515b3f",
      "8ccdaee23b684d2f880bcbc50ee317c2",
      "6a7ad457fc584e62b3fe902874afa4c0",
      "456ca8e784104d0db754a1489c1ace17",
      "8c33cf11cd994e5b9b2bfc9855d4876a",
      "5d5233ca924f4f4e8ed7419a5179b571",
      "d5ba527892d540d7999145d9f913a172",
      "7188d19d185f4c45939f2349e111600c",
      "08664730666e4dfa9d5337c9bb358e18",
      "4bae48cf00744218aa95971ac6dc6afd",
      "6a1585f43e074cd386cc147afc9c83b9",
      "e295d1ab24b74096a3448a49d69f1230",
      "9952aacc9ef14956aaaaef3316fa4e10",
      "5b2883ad19084508bfc99652c61ebb81",
      "2ed411c6103849a2bbf444ce0e813248",
      "c1720830b2ae4ad1aed92de3fba015ef",
      "003d89058b0f4ff0afa2e972af2f4d69",
      "e2398c0894434499a421ef169a7e6946",
      "cc9381c8c0c74140964d901d67b8bd36",
      "525f1193cbc04bcda8f38b93d06102cf",
      "d63967b8a8d34dc5a124420f4c53b07c",
      "235e4b6c6c144b2a91fd16840423df61",
      "39c5ef27ee634d77a0e901434ef06fe9",
      "ed72fd406c4a4e0e9973344af86b0b28",
      "48038281cd6c43bc9ac3179a42ae6504",
      "89087e0d5a5d4a2fa8c151240bf7ba1d",
      "3e2a1a4904a94c9795ac49f5f80ff48e",
      "517a0764344449499488fcf543db5464",
      "6cf7bfc8359548d98182f9358d4301ad",
      "b42e78c58adc41e6b27c197e4982f59b",
      "45bbddc1b2bc49f59ea07f16516c3d61",
      "1a64a1b1d2c64f3280086f38d00b65c4",
      "3cf88e644f53458dacf770e08d1e3f01",
      "cbadc0f4a12343ceb55ccee7fa305c7f",
      "11e127921af64a62a5ff43bf1bd7a128",
      "fd1563a23c864062a38b08482845f26b",
      "b194ec21841242c8bce67c55c85961bb",
      "2cba9181bf26446c936b04f3ccd10a0e",
      "0ccab0a3d20c44b99e7698dc5ff085ea",
      "182cde3c2538414f831ea36390db4c7d"
     ]
    },
    "id": "kSIWlR4ByTLZ",
    "outputId": "49f12fdc-bec3-4959-b09b-dc92da4d9b60"
   },
   "outputs": [
    {
     "data": {
      "application/vnd.jupyter.widget-view+json": {
       "model_id": "cc599e42879e420688cb233d5934623f",
       "version_major": 2,
       "version_minor": 0
      },
      "text/plain": [
       "modules.json:   0%|          | 0.00/229 [00:00<?, ?B/s]"
      ]
     },
     "metadata": {},
     "output_type": "display_data"
    },
    {
     "data": {
      "application/vnd.jupyter.widget-view+json": {
       "model_id": "835074ad766f4ca89ad3a72d04aae923",
       "version_major": 2,
       "version_minor": 0
      },
      "text/plain": [
       "config_sentence_transformers.json:   0%|          | 0.00/212 [00:00<?, ?B/s]"
      ]
     },
     "metadata": {},
     "output_type": "display_data"
    },
    {
     "data": {
      "application/vnd.jupyter.widget-view+json": {
       "model_id": "378a89ca56244d5fb37544415c7f63e1",
       "version_major": 2,
       "version_minor": 0
      },
      "text/plain": [
       "README.md: 0.00B [00:00, ?B/s]"
      ]
     },
     "metadata": {},
     "output_type": "display_data"
    },
    {
     "data": {
      "application/vnd.jupyter.widget-view+json": {
       "model_id": "91236778c2bf41caa88f9d8bcdbb875e",
       "version_major": 2,
       "version_minor": 0
      },
      "text/plain": [
       "sentence_bert_config.json:   0%|          | 0.00/53.0 [00:00<?, ?B/s]"
      ]
     },
     "metadata": {},
     "output_type": "display_data"
    },
    {
     "data": {
      "application/vnd.jupyter.widget-view+json": {
       "model_id": "157653e32f0d4d01abdff37f77724f21",
       "version_major": 2,
       "version_minor": 0
      },
      "text/plain": [
       "config.json:   0%|          | 0.00/571 [00:00<?, ?B/s]"
      ]
     },
     "metadata": {},
     "output_type": "display_data"
    },
    {
     "data": {
      "application/vnd.jupyter.widget-view+json": {
       "model_id": "5961d59b09d24a0ca52d7d9076e8bf3b",
       "version_major": 2,
       "version_minor": 0
      },
      "text/plain": [
       "model.safetensors:   0%|          | 0.00/438M [00:00<?, ?B/s]"
      ]
     },
     "metadata": {},
     "output_type": "display_data"
    },
    {
     "data": {
      "application/vnd.jupyter.widget-view+json": {
       "model_id": "90c2176f21c34479ada6f999266b7d32",
       "version_major": 2,
       "version_minor": 0
      },
      "text/plain": [
       "tokenizer_config.json:   0%|          | 0.00/363 [00:00<?, ?B/s]"
      ]
     },
     "metadata": {},
     "output_type": "display_data"
    },
    {
     "data": {
      "application/vnd.jupyter.widget-view+json": {
       "model_id": "54c94d28d943401284e5706073df4c76",
       "version_major": 2,
       "version_minor": 0
      },
      "text/plain": [
       "vocab.txt: 0.00B [00:00, ?B/s]"
      ]
     },
     "metadata": {},
     "output_type": "display_data"
    },
    {
     "data": {
      "application/vnd.jupyter.widget-view+json": {
       "model_id": "7188d19d185f4c45939f2349e111600c",
       "version_major": 2,
       "version_minor": 0
      },
      "text/plain": [
       "tokenizer.json: 0.00B [00:00, ?B/s]"
      ]
     },
     "metadata": {},
     "output_type": "display_data"
    },
    {
     "data": {
      "application/vnd.jupyter.widget-view+json": {
       "model_id": "cc9381c8c0c74140964d901d67b8bd36",
       "version_major": 2,
       "version_minor": 0
      },
      "text/plain": [
       "special_tokens_map.json:   0%|          | 0.00/239 [00:00<?, ?B/s]"
      ]
     },
     "metadata": {},
     "output_type": "display_data"
    },
    {
     "data": {
      "application/vnd.jupyter.widget-view+json": {
       "model_id": "b42e78c58adc41e6b27c197e4982f59b",
       "version_major": 2,
       "version_minor": 0
      },
      "text/plain": [
       "config.json:   0%|          | 0.00/190 [00:00<?, ?B/s]"
      ]
     },
     "metadata": {},
     "output_type": "display_data"
    },
    {
     "name": "stdout",
     "output_type": "stream",
     "text": [
      "Top-5 Accuracy: 99.20%\n",
      "Top-5 Mean F1: 99.20%\n"
     ]
    }
   ],
   "source": [
    "import numpy as np\n",
    "from datasets import load_dataset\n",
    "from sentence_transformers import SentenceTransformer\n",
    "import faiss\n",
    "\n",
    "# Step 1: Load subset of SQuAD (500 samples)\n",
    "ds = load_dataset(\"squad\", split=\"validation[:500]\")\n",
    "questions = [x[\"question\"] for x in ds]\n",
    "answers = [x[\"answers\"][\"text\"][0] for x in ds]\n",
    "contexts = [x[\"context\"] for x in ds]\n",
    "\n",
    "# Step 2: Build retrieval corpus = \"Q + C\"\n",
    "corpus = [f\"Q: {q}\\nC: {c}\" for q, c in zip(questions, contexts)]\n",
    "\n",
    "# Step 3: Load retriever and encode\n",
    "model = SentenceTransformer(\"sentence-transformers/multi-qa-mpnet-base-dot-v1\")\n",
    "corpus_emb = model.encode(corpus, convert_to_numpy=True, normalize_embeddings=True)\n",
    "query_emb = model.encode(questions, convert_to_numpy=True, normalize_embeddings=True)\n",
    "\n",
    "# Step 4: Create FAISS index\n",
    "index = faiss.IndexFlatIP(corpus_emb.shape[1])\n",
    "index.add(corpus_emb)\n",
    "\n",
    "# Step 5: Search top-k\n",
    "top_k = 5\n",
    "D, I = index.search(query_emb, top_k)\n",
    "\n",
    "# Step 6: Evaluate using substring match\n",
    "def compute_f1_from_substring(docs, gold):\n",
    "    return 1.0 if any(gold.lower() in doc.lower() for doc in docs) else 0.0\n",
    "\n",
    "f1_scores = []\n",
    "correct = 0\n",
    "\n",
    "for i in range(len(questions)):\n",
    "    retrieved_docs = [corpus[j] for j in I[i]]\n",
    "    gold = answers[i]\n",
    "    f1 = compute_f1_from_substring(retrieved_docs, gold)\n",
    "    f1_scores.append(f1)\n",
    "    correct += f1\n",
    "\n",
    "top5_acc = correct / len(questions)\n",
    "top5_f1 = np.mean(f1_scores)\n",
    "\n",
    "print(f\"Top-5 Accuracy: {top5_acc:.2%}\")\n",
    "print(f\"Top-5 Mean F1: {top5_f1:.2%}\")\n"
   ]
  },
  {
   "cell_type": "code",
   "execution_count": null,
   "metadata": {
    "colab": {
     "base_uri": "https://localhost:8080/"
    },
    "id": "d0wbot3o2Rch",
    "outputId": "52a346f9-58f0-45a3-de32-76660d541dbd"
   },
   "outputs": [
    {
     "name": "stdout",
     "output_type": "stream",
     "text": [
      "================================================================================\n",
      "Example #1\n",
      "Question: Which NFL team represented the AFC at Super Bowl 50?\n",
      "Answer: Denver Broncos\n",
      "\n",
      "Top-5 Unique Contexts:\n",
      "\n",
      "[Rank 1] [✓]\n",
      "Super Bowl 50 was an American football game to determine\n",
      "the champion of the National Football League (NFL) for the\n",
      "2015 season. The American Football Conference (AFC) champion Denver Broncos\n",
      "defeated the National Football Conference (NFC) champion Carolina Panthers 24–10\n",
      "to earn their third Super Bowl title. The game was\n",
      "played on February 7, 2016, at Levi's Stadium in the\n",
      "San Francisco Bay Area at Santa Clara, California. As this\n",
      "was the 50th Super Bowl, the league emphasized the \"golden\n",
      "anniversary\" with various gold-themed initiatives, as well as temporarily suspending\n",
      "the tradition of naming each Super Bowl game with Roman\n",
      "numerals (under which the game would have been known as\n",
      "\"Super Bowl L\"), so that the logo could prominently feature\n",
      "the Arabic numerals 50.\n",
      "\n",
      "[Rank 2] [✗]\n",
      "The Panthers finished the regular season with a 15–1 record,\n",
      "and quarterback Cam Newton was named the NFL Most Valuable\n",
      "Player (MVP). They defeated the Arizona Cardinals 49–15 in the\n",
      "NFC Championship Game and advanced to their second Super Bowl\n",
      "appearance since the franchise was founded in 1995. The Broncos\n",
      "finished the regular season with a 12–4 record, and denied\n",
      "the New England Patriots a chance to defend their title\n",
      "from Super Bowl XLIX by defeating them 20–18 in the\n",
      "AFC Championship Game. They joined the Patriots, Dallas Cowboys, and\n",
      "Pittsburgh Steelers as one of four teams that have made\n",
      "eight appearances in the Super Bowl.\n",
      "\n",
      "================================================================================\n",
      "Example #2\n",
      "Question: Which NFL team represented the NFC at Super Bowl 50?\n",
      "Answer: Carolina Panthers\n",
      "\n",
      "Top-5 Unique Contexts:\n",
      "\n",
      "[Rank 1] [✓]\n",
      "Super Bowl 50 was an American football game to determine\n",
      "the champion of the National Football League (NFL) for the\n",
      "2015 season. The American Football Conference (AFC) champion Denver Broncos\n",
      "defeated the National Football Conference (NFC) champion Carolina Panthers 24–10\n",
      "to earn their third Super Bowl title. The game was\n",
      "played on February 7, 2016, at Levi's Stadium in the\n",
      "San Francisco Bay Area at Santa Clara, California. As this\n",
      "was the 50th Super Bowl, the league emphasized the \"golden\n",
      "anniversary\" with various gold-themed initiatives, as well as temporarily suspending\n",
      "the tradition of naming each Super Bowl game with Roman\n",
      "numerals (under which the game would have been known as\n",
      "\"Super Bowl L\"), so that the logo could prominently feature\n",
      "the Arabic numerals 50.\n",
      "\n",
      "[Rank 2] [✗]\n",
      "The Panthers finished the regular season with a 15–1 record,\n",
      "and quarterback Cam Newton was named the NFL Most Valuable\n",
      "Player (MVP). They defeated the Arizona Cardinals 49–15 in the\n",
      "NFC Championship Game and advanced to their second Super Bowl\n",
      "appearance since the franchise was founded in 1995. The Broncos\n",
      "finished the regular season with a 12–4 record, and denied\n",
      "the New England Patriots a chance to defend their title\n",
      "from Super Bowl XLIX by defeating them 20–18 in the\n",
      "AFC Championship Game. They joined the Patriots, Dallas Cowboys, and\n",
      "Pittsburgh Steelers as one of four teams that have made\n",
      "eight appearances in the Super Bowl.\n",
      "\n",
      "================================================================================\n",
      "Example #3\n",
      "Question: Where did Super Bowl 50 take place?\n",
      "Answer: Santa Clara, California\n",
      "\n",
      "Top-5 Unique Contexts:\n",
      "\n",
      "[Rank 1] [✓]\n",
      "Super Bowl 50 was an American football game to determine\n",
      "the champion of the National Football League (NFL) for the\n",
      "2015 season. The American Football Conference (AFC) champion Denver Broncos\n",
      "defeated the National Football Conference (NFC) champion Carolina Panthers 24–10\n",
      "to earn their third Super Bowl title. The game was\n",
      "played on February 7, 2016, at Levi's Stadium in the\n",
      "San Francisco Bay Area at Santa Clara, California. As this\n",
      "was the 50th Super Bowl, the league emphasized the \"golden\n",
      "anniversary\" with various gold-themed initiatives, as well as temporarily suspending\n",
      "the tradition of naming each Super Bowl game with Roman\n",
      "numerals (under which the game would have been known as\n",
      "\"Super Bowl L\"), so that the logo could prominently feature\n",
      "the Arabic numerals 50.\n",
      "\n",
      "[Rank 2] [✗]\n",
      "The Panthers finished the regular season with a 15–1 record,\n",
      "and quarterback Cam Newton was named the NFL Most Valuable\n",
      "Player (MVP). They defeated the Arizona Cardinals 49–15 in the\n",
      "NFC Championship Game and advanced to their second Super Bowl\n",
      "appearance since the franchise was founded in 1995. The Broncos\n",
      "finished the regular season with a 12–4 record, and denied\n",
      "the New England Patriots a chance to defend their title\n",
      "from Super Bowl XLIX by defeating them 20–18 in the\n",
      "AFC Championship Game. They joined the Patriots, Dallas Cowboys, and\n",
      "Pittsburgh Steelers as one of four teams that have made\n",
      "eight appearances in the Super Bowl.\n",
      "\n",
      "================================================================================\n",
      "Example #4\n",
      "Question: Which NFL team won Super Bowl 50?\n",
      "Answer: Denver Broncos\n",
      "\n",
      "Top-5 Unique Contexts:\n",
      "\n",
      "[Rank 1] [✓]\n",
      "Super Bowl 50 was an American football game to determine\n",
      "the champion of the National Football League (NFL) for the\n",
      "2015 season. The American Football Conference (AFC) champion Denver Broncos\n",
      "defeated the National Football Conference (NFC) champion Carolina Panthers 24–10\n",
      "to earn their third Super Bowl title. The game was\n",
      "played on February 7, 2016, at Levi's Stadium in the\n",
      "San Francisco Bay Area at Santa Clara, California. As this\n",
      "was the 50th Super Bowl, the league emphasized the \"golden\n",
      "anniversary\" with various gold-themed initiatives, as well as temporarily suspending\n",
      "the tradition of naming each Super Bowl game with Roman\n",
      "numerals (under which the game would have been known as\n",
      "\"Super Bowl L\"), so that the logo could prominently feature\n",
      "the Arabic numerals 50.\n",
      "\n",
      "[Rank 2] [✗]\n",
      "The Panthers finished the regular season with a 15–1 record,\n",
      "and quarterback Cam Newton was named the NFL Most Valuable\n",
      "Player (MVP). They defeated the Arizona Cardinals 49–15 in the\n",
      "NFC Championship Game and advanced to their second Super Bowl\n",
      "appearance since the franchise was founded in 1995. The Broncos\n",
      "finished the regular season with a 12–4 record, and denied\n",
      "the New England Patriots a chance to defend their title\n",
      "from Super Bowl XLIX by defeating them 20–18 in the\n",
      "AFC Championship Game. They joined the Patriots, Dallas Cowboys, and\n",
      "Pittsburgh Steelers as one of four teams that have made\n",
      "eight appearances in the Super Bowl.\n",
      "\n",
      "================================================================================\n",
      "Example #5\n",
      "Question: What color was used to emphasize the 50th anniversary of the Super Bowl?\n",
      "Answer: gold\n",
      "\n",
      "Top-5 Unique Contexts:\n",
      "\n",
      "[Rank 1] [✓]\n",
      "Super Bowl 50 was an American football game to determine\n",
      "the champion of the National Football League (NFL) for the\n",
      "2015 season. The American Football Conference (AFC) champion Denver Broncos\n",
      "defeated the National Football Conference (NFC) champion Carolina Panthers 24–10\n",
      "to earn their third Super Bowl title. The game was\n",
      "played on February 7, 2016, at Levi's Stadium in the\n",
      "San Francisco Bay Area at Santa Clara, California. As this\n",
      "was the 50th Super Bowl, the league emphasized the \"golden\n",
      "anniversary\" with various gold-themed initiatives, as well as temporarily suspending\n",
      "the tradition of naming each Super Bowl game with Roman\n",
      "numerals (under which the game would have been known as\n",
      "\"Super Bowl L\"), so that the logo could prominently feature\n",
      "the Arabic numerals 50.\n",
      "\n",
      "[Rank 2] [✗]\n",
      "The Panthers finished the regular season with a 15–1 record,\n",
      "and quarterback Cam Newton was named the NFL Most Valuable\n",
      "Player (MVP). They defeated the Arizona Cardinals 49–15 in the\n",
      "NFC Championship Game and advanced to their second Super Bowl\n",
      "appearance since the franchise was founded in 1995. The Broncos\n",
      "finished the regular season with a 12–4 record, and denied\n",
      "the New England Patriots a chance to defend their title\n",
      "from Super Bowl XLIX by defeating them 20–18 in the\n",
      "AFC Championship Game. They joined the Patriots, Dallas Cowboys, and\n",
      "Pittsburgh Steelers as one of four teams that have made\n",
      "eight appearances in the Super Bowl.\n",
      "\n"
     ]
    }
   ],
   "source": [
    "import numpy as np\n",
    "from datasets import load_dataset\n",
    "from sentence_transformers import SentenceTransformer\n",
    "import faiss\n",
    "import textwrap\n",
    "\n",
    "# Load a subset of SQuAD (or use TriviaQA with .[\"context\"] field)\n",
    "ds = load_dataset(\"squad\", split=\"validation[:50]\")\n",
    "\n",
    "questions = [x[\"question\"] for x in ds]\n",
    "answers = [x[\"answers\"][\"text\"][0] for x in ds]\n",
    "contexts = list(set(x[\"context\"] for x in ds))  # unique only\n",
    "\n",
    "# Embedding model\n",
    "model = SentenceTransformer(\"all-MiniLM-L6-v2\")\n",
    "context_emb = model.encode(contexts, convert_to_numpy=True, normalize_embeddings=True)\n",
    "query_emb = model.encode(questions, convert_to_numpy=True, normalize_embeddings=True)\n",
    "\n",
    "# Build FAISS index\n",
    "index = faiss.IndexFlatIP(context_emb.shape[1])\n",
    "index.add(context_emb)\n",
    "top_k = 10\n",
    "D, I = index.search(query_emb, top_k * 2)\n",
    "\n",
    "# Print examples with distinct contexts, wrapped to 10 words per line\n",
    "def wrap_text_by_words(text, words_per_line=10):\n",
    "    words = text.split()\n",
    "    lines = [\" \".join(words[i:i + words_per_line]) for i in range(0, len(words), words_per_line)]\n",
    "    return \"\\n\".join(lines)\n",
    "\n",
    "for i in range(5):\n",
    "    print(\"=\" * 80)\n",
    "    print(f\"Example #{i+1}\")\n",
    "    print(\"Question:\", questions[i])\n",
    "    print(\"Answer:\", answers[i])\n",
    "    print(\"\\nTop-5 Unique Contexts:\\n\")\n",
    "\n",
    "    seen = set()\n",
    "    rank = 1\n",
    "\n",
    "    for j in I[i]:\n",
    "        doc = contexts[j]\n",
    "        normalized = doc.strip().lower()\n",
    "        if normalized in seen:\n",
    "            continue\n",
    "        seen.add(normalized)\n",
    "\n",
    "        wrapped = wrap_text_by_words(doc, words_per_line=10)\n",
    "        is_hit = \"✓\" if answers[i].lower() in normalized else \"✗\"\n",
    "\n",
    "        print(f\"[Rank {rank}] [{is_hit}]\\n{wrapped}\\n\")\n",
    "        rank += 1\n",
    "\n",
    "        if rank > 5:\n",
    "            break\n"
   ]
  }
 ],
 "metadata": {
  "colab": {
   "provenance": []
  },
  "kernelspec": {
   "display_name": "Python 3",
   "name": "python3"
  },
  "language_info": {
   "name": "python"
  }
 },
 "nbformat": 4,
 "nbformat_minor": 0
}
